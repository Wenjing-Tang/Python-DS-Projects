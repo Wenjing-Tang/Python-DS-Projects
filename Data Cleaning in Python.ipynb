{
 "cells": [
  {
   "cell_type": "code",
   "execution_count": null,
   "metadata": {},
   "outputs": [],
   "source": [
    "Convet data types: sales['Revenue'].astype('int')\n",
    ".describe(): print the summary statistics \n",
    "\n",
    "Common Data Problems:\n",
    "i) Wrong data type\n",
    "ii) Out of range data\n",
    "iii) Dupliactes\n",
    "\n",
    "a. Find duplicate: .duplicated(subset = ' ', keep = False)\n",
    "b. Drop complete duplicate: .drop_duplicates()\n",
    "c. Drop incomplete duplicate: use .groupby() and .agg()\n",
    "\n",
    "Treating those duplicated rows by first dropping complete duplicates, and then merging the incomplete duplicate rows into one using groupby() and agg()\n",
    "Using the default .duplicated() without tweaking some of the arguments returns only the non-first duplicates across all columns.\n",
    "---------------------------------------------------------------------------------------------------------------------------------------------------\n",
    "Text and Categorical Data Problems:\n",
    "Membership constraint: is when a categorical column has values that are not in the predefined set of categories of your column.\n",
    "\n",
    "i) Findind inconsistent categories and Treating them with joins\n",
    "ii) Findind inconsistent categories and Collapsing them into less\n",
    "iii) Cleaning text data \n",
    "------------------------------------------------------------------------------------------------------------------------\n",
    "Advance Data Problems:\n",
    "i) Uniformity (Temperature, Date)\n",
    "ii) Cross-field Validation\n",
    "iii) Completeness: missing values\n",
    "\n",
    "Extract the year using the .dt.strftime() method.\n",
    ">> banking['acct_year'] = banking['account_opened'].dt.strftime('%Y')\n",
    "------------------------------------------------------------------------------------------------------------------------\n",
    "Comparing String:\n",
    "i) String Similarity\n",
    "ii) Record Linkage: Generating Pairs\n",
    "\n",
    "Minimum edit distance: is the minimum number of steps needed to reach from String A to String B, with the operations available being: \n",
    "a. Insertion of a new character\n",
    "b. Deletion of an existing character\n",
    "c. Substitution of an existing character\n",
    "d. Transposition of two existing consecutive characters"
   ]
  }
 ],
 "metadata": {
  "kernelspec": {
   "display_name": "Python 3",
   "language": "python",
   "name": "python3"
  },
  "language_info": {
   "codemirror_mode": {
    "name": "ipython",
    "version": 3
   },
   "file_extension": ".py",
   "mimetype": "text/x-python",
   "name": "python",
   "nbconvert_exporter": "python",
   "pygments_lexer": "ipython3",
   "version": "3.8.3"
  }
 },
 "nbformat": 4,
 "nbformat_minor": 4
}
